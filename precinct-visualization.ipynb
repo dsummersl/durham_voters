{
 "cells": [
  {
   "cell_type": "markdown",
   "metadata": {
    "deletable": true,
    "editable": true
   },
   "source": [
    "## Precinct voters maps\n",
    "\n",
    "My goal was to analyze the voters in a precinct: specifically, what addresses don't have recorded votes. I used three data sets to construct this analysis:\n",
    "\n",
    "* Properties and streets from the [Durham ArcGIS server](http://gisweb2.durhamnc.gov/ArcGIS/rest/services/PublicWorks/PublicWorks/MapServer). Here is an example of the fields that each record has: [record 1](http://gisweb2.durhamnc.gov/ArcGIS/rest/services/PublicWorks/PublicWorks/MapServer/89/1)\n",
    "* [Voter registration logs](http://dl.ncsbe.gov/index.html?prefix=data/) from the State Board of Elections.\n",
    "* Precinct boundaries from the State Board of Elections.\n",
    "\n",
    "The Durham ArcGIS platform returns a rectangle of properties. I only want properties within the precinct area, so I made an intersection with the precinct boundary to filter out non-precinct properties.\n",
    "\n",
    "*Notes*: I use the form `test -f file || get file` to prevent re-running commands. You can delete the files to redownload. I used the [GDAL](http://www.gdal.org/ogr2ogr.html) package for some shapefile conversions (this could probably be converted to geopandas). All python dependencies, including jupyter, are listed in `requirements.txt`. Use the following to set work on this notebook yourself:\n",
    "\n",
    "```\n",
    "# install GDAL, however you do that on your platform. On OSX, you can install with homebrew (brew install gdal).\n",
    "\n",
    "mkvirtualenv nc_election -p `which python3`\n",
    "pip install -r requirements.txt\n",
    "```"
   ]
  },
  {
   "cell_type": "code",
   "execution_count": null,
   "metadata": {
    "collapsed": false,
    "deletable": true,
    "editable": true
   },
   "outputs": [],
   "source": [
    "from arcgis import downloader, utils\n",
    "import geopandas as gpd\n",
    "import matplotlib\n",
    "import matplotlib.pyplot as plt\n",
    "from matplotlib_venn import venn2\n",
    "import os\n",
    "import pandas as pd\n",
    "\n",
    "\n",
    "matplotlib.style.use('ggplot')\n",
    "%matplotlib inline\n",
    "\n",
    "PRECINCT = '45'\n",
    "%env PRECINCT=$PRECINCT"
   ]
  },
  {
   "cell_type": "code",
   "execution_count": null,
   "metadata": {
    "collapsed": true,
    "deletable": true,
    "editable": true
   },
   "outputs": [],
   "source": [
    "!mkdir -p data"
   ]
  },
  {
   "cell_type": "code",
   "execution_count": null,
   "metadata": {
    "collapsed": true,
    "deletable": true,
    "editable": true
   },
   "outputs": [],
   "source": [
    "!test -f data/Precincts.shp || (cd data && wget https://s3.amazonaws.com/dl.ncsbe.gov/PrecinctMaps/SBE_PRECINCTS_20161004.zip && unzip SBE_PRECINCTS_20161004.zip )"
   ]
  },
  {
   "cell_type": "code",
   "execution_count": null,
   "metadata": {
    "collapsed": false,
    "deletable": true,
    "editable": true
   },
   "outputs": [],
   "source": [
    "!test -f data/precinct-$PRECINCT.shp || (cd data && ogr2ogr -sql \"select * from Precincts where COUNTY_NAM='DURHAM' and PREC_ID='$PRECINCT'\" -t_srs EPSG:4326 precinct-$PRECINCT.shp Precincts.shp)"
   ]
  },
  {
   "cell_type": "code",
   "execution_count": null,
   "metadata": {
    "collapsed": false,
    "deletable": true,
    "editable": true
   },
   "outputs": [],
   "source": [
    "precinct = gpd.GeoDataFrame.from_file(\"data/precinct-{}.shp\".format(PRECINCT))\n",
    "bounds = precinct.bounds\n",
    "\n",
    "all_lots_url_template = \"http://gisweb2.durhamnc.gov/arcgis/rest/services/PublicWorks/PublicWorks/MapServer/89/query?f=json&geometry={},{},{},{}&returnGeometry=true&outFields=*&outSR=4326&inSR=4326\"\n",
    "lots = downloader.get_shp(all_lots_url_template, 'data/all_lots-{}'.format(PRECINCT), bounds)\n",
    "\n",
    "highways_url_template = \"http://gisweb2.durhamnc.gov/arcgis/rest/services/PublicWorks/PublicWorks/MapServer/54/query?f=json&geometry={},{},{},{}&returnGeometry=true&outFields=*&outSR=4326&inSR=4326\"\n",
    "highways = downloader.get_shp(highways_url_template, 'data/highways-{}'.format(PRECINCT), bounds)\n",
    "\n",
    "streets_url_template = \"http://gisweb2.durhamnc.gov/arcgis/rest/services/PublicWorks/PublicWorks/MapServer/56/query?f=json&geometry={},{},{},{}&returnGeometry=true&outFields=*&outSR=4326&inSR=4326\"\n",
    "streets = downloader.get_shp(streets_url_template, 'data/streets-{}'.format(PRECINCT), bounds)"
   ]
  },
  {
   "cell_type": "code",
   "execution_count": null,
   "metadata": {
    "collapsed": false,
    "deletable": true,
    "editable": true
   },
   "outputs": [],
   "source": [
    "print('Properties from arcgis boundary: {}'.format(len(lots)))\n",
    "\n",
    "precinct = precinct.to_crs({'init': 'epsg:4326'})\n",
    "\n",
    "lots_in_precinct = gpd.sjoin(lots, precinct, op='within')\n",
    "\n",
    "print('Properties in precinct {}: {}'.format(PRECINCT, len(lots_in_precinct)))\n",
    "\n",
    "lots_in_precinct.to_file('data/precinct-{}-lots.shp'.format(PRECINCT))"
   ]
  },
  {
   "cell_type": "code",
   "execution_count": null,
   "metadata": {
    "collapsed": false,
    "deletable": true,
    "editable": true
   },
   "outputs": [],
   "source": [
    "!rm -f data/precinct-$PRECINCT-lots.geojson && ogr2ogr -f geojson data/precinct-$PRECINCT-lots.geojson data/precinct-$PRECINCT-lots.shp"
   ]
  },
  {
   "cell_type": "code",
   "execution_count": null,
   "metadata": {
    "collapsed": false,
    "deletable": true,
    "editable": true
   },
   "outputs": [],
   "source": [
    "!cd data && wget -N https://s3.amazonaws.com/dl.ncsbe.gov/data/ncvoter32.zip && test -f ncvoter32.txt || unzip -o ncvoter32.zip"
   ]
  },
  {
   "cell_type": "code",
   "execution_count": null,
   "metadata": {
    "collapsed": false,
    "deletable": true,
    "editable": true
   },
   "outputs": [],
   "source": [
    "voters = pd.read_csv('data/ncvoter32.txt', sep=None)"
   ]
  },
  {
   "cell_type": "code",
   "execution_count": null,
   "metadata": {
    "collapsed": false,
    "deletable": true,
    "editable": true
   },
   "outputs": [],
   "source": [
    "voters_in_precinct = voters[voters.county_desc==\"DURHAM\"]\n",
    "voters_in_precinct = voters_in_precinct[voters_in_precinct.precinct_desc==PRECINCT]"
   ]
  },
  {
   "cell_type": "code",
   "execution_count": null,
   "metadata": {
    "collapsed": false,
    "deletable": true,
    "editable": true,
    "scrolled": false
   },
   "outputs": [],
   "source": [
    "all_lots_pd = gpd.read_file('data/precinct-{}-lots.shp'.format(PRECINCT))\n",
    "precinct_boundary_pd = gpd.read_file('data/precinct-{}.shp'.format(PRECINCT))\n",
    "\n",
    "all_lots_pd['LANDUSE_CODE'] = all_lots_pd['LANDUSE_DE'].str.replace(r'/.*$','')\n",
    "\n",
    "\n",
    "fig, ax = plt.subplots(1, figsize=(10,5))\n",
    "precinct_boundary_pd.plot(ax=ax, color='black', alpha=0.1, linewidth=0.2)\n",
    "streets.plot(ax=ax, color='black', edgecolor='black', alpha=0.5, linewidth=0.5)\n",
    "highways.plot(ax=ax, color='black', edgecolor='black', alpha=0.5)\n",
    "\n",
    "all_lots_pd.plot(ax=ax, column='LANDUSE_CODE', linewidth=0, legend=True)\n",
    "ax.axis('off')\n",
    "leg = ax.get_legend()\n",
    "leg.set_bbox_to_anchor((1., 1., 0.5, 0.0))\n",
    "plt.title('Types of Properties', fontsize=20)\n",
    "\n",
    "all_lots_pd['LANDUSE_CODE'].value_counts()"
   ]
  },
  {
   "cell_type": "code",
   "execution_count": null,
   "metadata": {
    "collapsed": false,
    "deletable": true,
    "editable": true
   },
   "outputs": [],
   "source": [
    "# so now that I have a shapefile of residential addresses, lets make files of addresses\n",
    "# with no voters:\n",
    "\n",
    "# remove apartment numbers from addresses, to match up more addresses.\n",
    "# TODO it might be possible to determine how many addresses have multiple tenants and use this apartment\n",
    "# number to determine which apartments have no registered addresses:\n",
    "utils.create_address_fields(voters_in_precinct, 'mail_addr1')\n",
    "utils.create_address_fields(all_lots_pd, 'SITE_ADDRE')\n",
    "\n",
    "voters_in_precinct['clean_number_address'] = voters_in_precinct['clean_street_number'] + ' ' + voters_in_precinct['clean_street_name']\n",
    "all_lots_pd['clean_number_address'] = all_lots_pd['clean_street_number'] + ' ' + all_lots_pd['clean_street_name']\n",
    "\n",
    "matched_regs = all_lots_pd.query('clean_number_address in @voters_in_precinct.clean_number_address')\n",
    "non_matched_props = all_lots_pd.query('clean_number_address not in @voters_in_precinct.clean_number_address')\n",
    "non_matched_regs = voters_in_precinct.query('clean_number_address not in @all_lots_pd.clean_number_address')\n",
    "\n",
    "# filter out properties that are definitely NOT residential:\n",
    "non_matched_props = non_matched_props[non_matched_props.LANDUSE_DE.str.startswith('REC') != True]\n",
    "non_matched_props = non_matched_props[non_matched_props.LANDUSE_DE.str.startswith('VAC') != True]\n",
    "non_matched_props = non_matched_props[non_matched_props.LANDUSE_DE.str.startswith('PRESENT') != True]\n",
    "non_matched_props = non_matched_props[non_matched_props.LANDUSE_DE.str.startswith('COM') != True]\n",
    "non_matched_props = non_matched_props[non_matched_props.LANDUSE_DE.str.startswith('WILD') != True]\n",
    "non_matched_props = non_matched_props[non_matched_props.LANDUSE_DE.str.startswith('CMNTY SVC') != True]\n",
    "non_matched_props = non_matched_props[non_matched_props.LANDUSE_DE.str.startswith('PUBL SVC') != True]\n",
    "non_matched_props = non_matched_props[non_matched_props.LANDUSE_DE.str.startswith('VACANT') != True]\n",
    "non_matched_props = non_matched_props[non_matched_props.LANDUSE_DE.str.startswith('VAC RES') != True]\n",
    "non_matched_props = non_matched_props[non_matched_props.LANDUSE_DE.str.startswith('REC/ SOCIAL ORGANIZATIONS') != True]\n",
    "\n",
    "# all_lots_pd[['SITE_ADDRE','LANDUSE_DE']][all_lots_pd['SITE_ADDRE'].str.contains('23 N ROXBORO')]\n",
    "# lots[['SITE_ADDRE','LANDUSE_DE']][lots['SITE_ADDRE'].str.contains('3523')]\n",
    "# lots[['SITE_ADDRE','LANDUSE_DE']][lots.LANDUSE_DE == 'COM/ APARTMENT-GARDEN']\n",
    "\n",
    "# top ten addresses with registered voters (but couldn't find them on the map):\n",
    "# non_matched_regs['mail_addr1'].value_counts()[:10]"
   ]
  },
  {
   "cell_type": "markdown",
   "metadata": {
    "deletable": true,
    "editable": true
   },
   "source": [
    "## Joining Parcels to Voter Registrations\n",
    "\n",
    "Joining properties to voter registration is not exact. I joined the data sets by their address. Since property parcels don't hove apartment numbers, I created a new field by stripping out the apartment number before joining. What we're left with are three data sets:\n",
    "\n",
    " * Joined data: a match between a voter registration and and address. Of course there can be as many of these as there are registered voters at the address.\n",
    " * Properties without voters: these could be commercial properties, park properties, or unregistered voters. After joining all property addresses to voter logs, I removed the commercial/park/city properties as these are not likely to have voters living at the address.\n",
    " * Voter registrations without an address match: These really should have a match - the focus going forward should be in reducing this number as much as possible! I've found these can be voters that live in apartments (I've found one instance where the property address of an apartment complex was different than the actual apartment addresses - I've found another city run API that returns all apartments #s for an address...this might be one way of getting at these voters). It may be that some addresses are considered to be in the precinct, even if they don't fall within the precinct boundary. Further analysis is needed."
   ]
  },
  {
   "cell_type": "code",
   "execution_count": null,
   "metadata": {
    "collapsed": false,
    "deletable": true,
    "editable": true
   },
   "outputs": [],
   "source": [
    "venn2(subsets = (len(non_matched_props), len(non_matched_regs), len(matched_regs)), set_labels=('Properties', 'Registrations'))\n",
    "plt.title('Intersection of Parcel and Registered Voter Datasets', fontsize=20)\n",
    "# all_lots_pd[['SITE_ADDRE','LANDUSE_DE']][all_lots_pd['SITE_ADDRE'].str.contains('3529 N ROXBORO ')]\n",
    "# voters_in_precinct[['mail_addr1', 'absent_ind']][voters_in_precinct['mail_addr1'].str.contains('711 E HUDSON')]\n",
    "# non_matched_regs['mail_addr1'].value_counts()"
   ]
  },
  {
   "cell_type": "code",
   "execution_count": null,
   "metadata": {
    "collapsed": false,
    "deletable": true,
    "editable": true
   },
   "outputs": [],
   "source": [
    "fig, ax = plt.subplots(1, figsize=(10,5))\n",
    "precinct_boundary_pd.plot(ax=ax, color='black', alpha=0.1, linewidth=0.2)\n",
    "streets.plot(ax=ax, color='black', edgecolor='black', alpha=0.5, linewidth=0.5)\n",
    "highways.plot(ax=ax, color='black', edgecolor='black', alpha=0.5)\n",
    "non_matched_props.plot(ax=ax, column='LANDUSE_CODE', edgecolor='none', legend=True, hatch='////')\n",
    "ax.axis('off')\n",
    "leg = ax.get_legend()\n",
    "leg.set_bbox_to_anchor((1., 1., 0.0, 0.0))\n",
    "plt.title('Parcels without Registered Voters', fontsize=20)"
   ]
  },
  {
   "cell_type": "code",
   "execution_count": null,
   "metadata": {
    "collapsed": false,
    "deletable": true,
    "editable": true,
    "scrolled": false
   },
   "outputs": [],
   "source": [
    "# and by party. Note that some places are super blue/red (all blue/red voters in the house).\n",
    "# Purple for mixed houses, etc.\n",
    "\n",
    "voters_pd = all_lots_pd.merge(voters_in_precinct,left_on='SITE_ADDRE',right_on='mail_addr1')\n",
    "\n",
    "colors = {\n",
    "    'DEM': 'blue',\n",
    "    'LIB': 'green',\n",
    "    'REP': 'red',\n",
    "    'UNA': 'yellow'\n",
    "}\n",
    "\n",
    "fig, ax = plt.subplots(1, figsize=(15,10))\n",
    "ax.axis('off')\n",
    "\n",
    "# plot the boundary file and the properties without voters:\n",
    "precinct_boundary_pd.plot(ax=ax, color='black', alpha=0.1, linewidth=0.2)\n",
    "streets.plot(ax=ax, color='black', edgecolor='black', alpha=0.5, linewidth=0.5)\n",
    "highways.plot(ax=ax, color='black', edgecolor='black', alpha=0.5)\n",
    "non_matched_props.plot(ax=ax, color='#eeeeee', edgecolor='none', hatch='////')\n",
    "\n",
    "# then plot each voter:\n",
    "for k,v in colors.items():\n",
    "    voters_pd[voters_pd.party_cd==k].plot(\n",
    "        ax=ax, column='party_cd', linewidth=0, alpha=0.2, color=v\n",
    "    )\n",
    "\n",
    "plt.title('Parcels with Registered Voters', fontsize=20)\n",
    "    \n",
    "print(\"Voter breakdown:\")\n",
    "voters_pd['party_cd'].value_counts()"
   ]
  }
 ],
 "metadata": {
  "kernelspec": {
   "display_name": "Python 3",
   "language": "python",
   "name": "python3"
  },
  "language_info": {
   "codemirror_mode": {
    "name": "ipython",
    "version": 3
   },
   "file_extension": ".py",
   "mimetype": "text/x-python",
   "name": "python",
   "nbconvert_exporter": "python",
   "pygments_lexer": "ipython3",
   "version": "3.5.1"
  }
 },
 "nbformat": 4,
 "nbformat_minor": 0
}
